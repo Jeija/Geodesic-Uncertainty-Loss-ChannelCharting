{
 "cells": [
  {
   "cell_type": "markdown",
   "metadata": {},
   "source": [
    "### Ablation Study: Loss $\\mathcal L_\\mathrm{geo,unc}$, dataset $\\mathcal S$"
   ]
  },
  {
   "cell_type": "code",
   "execution_count": 1,
   "metadata": {},
   "outputs": [],
   "source": [
    "import multiprocessing as mp\n",
    "import numpy as np"
   ]
  },
  {
   "cell_type": "code",
   "execution_count": 2,
   "metadata": {},
   "outputs": [],
   "source": [
    "def objective_process(result_queue):\n",
    "    import matplotlib.pyplot as plt\n",
    "    import tensorflow as tf\n",
    "    import numpy as np\n",
    "    \n",
    "    import DissimilarityMetrics\n",
    "    import ChannelChartingCore\n",
    "    import Evaluation\n",
    "\n",
    "    import dichasus_cf0x\n",
    "\n",
    "    print(\"Loading Dataset...\")\n",
    "    groundtruth_positions = []\n",
    "    csi_time_domain = []\n",
    "    timestamps = []\n",
    "    \n",
    "    for csi, pos, time in dichasus_cf0x.trainingset.batch(1000):\n",
    "        csi_time_domain.append(csi.numpy())\n",
    "        groundtruth_positions.append(pos.numpy())\n",
    "        timestamps.append(time.numpy())\n",
    "    \n",
    "    csi_time_domain = np.concatenate(csi_time_domain)\n",
    "    groundtruth_positions = np.concatenate(groundtruth_positions)\n",
    "    timestamps = np.concatenate(timestamps)\n",
    "    \n",
    "    MEASUREMENT_INTERVAL = 0.048\n",
    "    timestamps = timestamps - timestamps[0]\n",
    "    timestamps = np.round(timestamps / MEASUREMENT_INTERVAL) * MEASUREMENT_INTERVAL\n",
    "\n",
    "    Evaluation.plot_colorized(groundtruth_positions, groundtruth_positions, title=\"Ground Truth Positions\")\n",
    "\n",
    "    def mean_variance_from_delta_adp(delta_adp):\n",
    "        mean = np.where(delta_adp == 0, 0, np.where(delta_adp > 18, np.inf, delta_adp * 0.0028 + 0.0024))\n",
    "        variance = np.where(delta_adp == 0, 0, np.where(delta_adp > 18, np.inf, 0.015 * mean))\n",
    "    \n",
    "        return mean, variance\n",
    "    \n",
    "    adp_metric = DissimilarityMetrics.ADPDissimilarityMetric(csi_time_domain, mean_variance_from_delta_adp)    \n",
    "\n",
    "    velocity_mean = 0.235\n",
    "    velocity_variance = 0.010\n",
    "    \n",
    "    # Make worste-case assumption of perfectly correlated velocities. This maximizes the variance.\n",
    "    velocity_metric = DissimilarityMetrics.VelocityDissimilarityMetric(velocity_mean, velocity_variance, True, timestamps)\n",
    "\n",
    "    GDM = ChannelChartingCore.GaussianDissimilarityModel([adp_metric, velocity_metric])\n",
    "    GDM.generate_short_paths(total_path_count = 40000, realization_count = 8)\n",
    "\n",
    "    MIN_BATCH_SIZE = 500\n",
    "    MAX_BATCH_SIZE = 4000\n",
    "    LEARNING_RATE_INITIAL = 1.5e-2\n",
    "    LEARNING_RATE_FINAL = 1e-2\n",
    "    MAX_HOPLENGTH = 20.0\n",
    "    MIN_HOPLENGTH = 0.1\n",
    "    TRAINING_BATCHES = 3000\n",
    "    ACCELERATION_MEAN = 0.0\n",
    "    ACCELERATION_VARIANCE = 0.5\n",
    "\n",
    "    # Ablation study: Disable acceleration loss component\n",
    "    ACCELERATION_WEIGHT = 0#1e-4\n",
    "\n",
    "    plot_callback = None # Evaluation.PlotChartCallback(groundtruth_positions, csi_time_domain.shape[0], max_hops = MAX_PATHHOPS)\n",
    "    cc = ChannelChartingCore.ChannelChart(GDM, csi_time_domain, timestamps, min_batch_size = MIN_BATCH_SIZE, max_batch_size = MAX_BATCH_SIZE, learning_rate_initial = LEARNING_RATE_INITIAL, learning_rate_final = LEARNING_RATE_FINAL, max_hoplength = MAX_HOPLENGTH, min_hoplength = MIN_HOPLENGTH, randomize_pathhops = False, training_batches = TRAINING_BATCHES, plot_callback = plot_callback, acceleration_mean = ACCELERATION_MEAN, acceleration_variance = ACCELERATION_VARIANCE, acceleration_weight = ACCELERATION_WEIGHT)\n",
    "\n",
    "    channel_chart_positions = cc.predict(csi_time_domain)\n",
    "    ct, tw, ks = Evaluation.ct_tw_ks_on_subset(groundtruth_positions, channel_chart_positions)\n",
    "    print(f\"CT: {ct:.4f}\\nTW: {tw:.4f}\\nKS: {ks:.4f}\")\n",
    "\n",
    "    channel_chart_positions_transformed, errorvectors, errors, mae, cep = Evaluation.mean_absolute_error_transformed(groundtruth_positions, channel_chart_positions)\n",
    "    Evaluation.plot_colorized(channel_chart_positions_transformed, groundtruth_positions, title = \"CC After Affine Transform\")\n",
    "    drms = np.sqrt(np.mean(np.square(errors)))\n",
    "    \n",
    "    print(f\"MAE: {mae:.4f}\\nCEP: {cep:.4f}\\nDRMS: {drms:.4f}\")\n",
    "    loss = cc.history.history[\"loss\"][-1]\n",
    "    print(cc.history.history[\"loss\"])\n",
    "    print(f\"Loss: {loss:.4f}\")\n",
    "    \n",
    "    result_queue.put((mae, cep, drms, loss))"
   ]
  },
  {
   "cell_type": "code",
   "execution_count": 3,
   "metadata": {},
   "outputs": [],
   "source": [
    "maes = []\n",
    "ceps = []\n",
    "drmss = []\n",
    "losses = []\n",
    "\n",
    "result_queue = mp.Queue()"
   ]
  },
  {
   "cell_type": "code",
   "execution_count": null,
   "metadata": {},
   "outputs": [
    {
     "name": "stderr",
     "output_type": "stream",
     "text": [
      "2024-12-03 22:14:39.408995: I tensorflow/core/platform/cpu_feature_guard.cc:210] This TensorFlow binary is optimized to use available CPU instructions in performance-critical operations.\n",
      "To enable the following instructions: AVX2 FMA, in other operations, rebuild TensorFlow with the appropriate compiler flags.\n",
      "2024-12-03 22:14:40.196415: W tensorflow/compiler/tf2tensorrt/utils/py_utils.cc:38] TF-TRT Warning: Could not find TensorRT\n",
      "2024-12-03 22:14:41.432917: I external/local_xla/xla/stream_executor/cuda/cuda_executor.cc:998] successful NUMA node read from SysFS had negative value (-1), but there must be at least one NUMA node, so returning NUMA node zero. See more at https://github.com/torvalds/linux/blob/v6.0/Documentation/ABI/testing/sysfs-bus-pci#L344-L355\n",
      "2024-12-03 22:14:41.486891: I external/local_xla/xla/stream_executor/cuda/cuda_executor.cc:998] successful NUMA node read from SysFS had negative value (-1), but there must be at least one NUMA node, so returning NUMA node zero. See more at https://github.com/torvalds/linux/blob/v6.0/Documentation/ABI/testing/sysfs-bus-pci#L344-L355\n",
      "2024-12-03 22:14:41.487292: I external/local_xla/xla/stream_executor/cuda/cuda_executor.cc:998] successful NUMA node read from SysFS had negative value (-1), but there must be at least one NUMA node, so returning NUMA node zero. See more at https://github.com/torvalds/linux/blob/v6.0/Documentation/ABI/testing/sysfs-bus-pci#L344-L355\n",
      "2024-12-03 22:14:41.489108: I external/local_xla/xla/stream_executor/cuda/cuda_executor.cc:998] successful NUMA node read from SysFS had negative value (-1), but there must be at least one NUMA node, so returning NUMA node zero. See more at https://github.com/torvalds/linux/blob/v6.0/Documentation/ABI/testing/sysfs-bus-pci#L344-L355\n",
      "2024-12-03 22:14:41.489421: I external/local_xla/xla/stream_executor/cuda/cuda_executor.cc:998] successful NUMA node read from SysFS had negative value (-1), but there must be at least one NUMA node, so returning NUMA node zero. See more at https://github.com/torvalds/linux/blob/v6.0/Documentation/ABI/testing/sysfs-bus-pci#L344-L355\n",
      "2024-12-03 22:14:41.489709: I external/local_xla/xla/stream_executor/cuda/cuda_executor.cc:998] successful NUMA node read from SysFS had negative value (-1), but there must be at least one NUMA node, so returning NUMA node zero. See more at https://github.com/torvalds/linux/blob/v6.0/Documentation/ABI/testing/sysfs-bus-pci#L344-L355\n",
      "2024-12-03 22:14:41.584323: I external/local_xla/xla/stream_executor/cuda/cuda_executor.cc:998] successful NUMA node read from SysFS had negative value (-1), but there must be at least one NUMA node, so returning NUMA node zero. See more at https://github.com/torvalds/linux/blob/v6.0/Documentation/ABI/testing/sysfs-bus-pci#L344-L355\n",
      "2024-12-03 22:14:41.584674: I external/local_xla/xla/stream_executor/cuda/cuda_executor.cc:998] successful NUMA node read from SysFS had negative value (-1), but there must be at least one NUMA node, so returning NUMA node zero. See more at https://github.com/torvalds/linux/blob/v6.0/Documentation/ABI/testing/sysfs-bus-pci#L344-L355\n",
      "2024-12-03 22:14:41.584974: I external/local_xla/xla/stream_executor/cuda/cuda_executor.cc:998] successful NUMA node read from SysFS had negative value (-1), but there must be at least one NUMA node, so returning NUMA node zero. See more at https://github.com/torvalds/linux/blob/v6.0/Documentation/ABI/testing/sysfs-bus-pci#L344-L355\n",
      "2024-12-03 22:14:41.585213: I tensorflow/core/common_runtime/gpu/gpu_device.cc:1928] Created device /job:localhost/replica:0/task:0/device:GPU:0 with 14300 MB memory:  -> device: 0, name: NVIDIA GeForce RTX 4080, pci bus id: 0000:81:00.0, compute capability: 8.9\n"
     ]
    },
    {
     "name": "stdout",
     "output_type": "stream",
     "text": [
      "Loading Dataset...\n"
     ]
    }
   ],
   "source": [
    "for i in range(30):\n",
    "    p = mp.Process(target=objective_process, args=(result_queue,))\n",
    "    p.start()\n",
    "    p.join()\n",
    "\n",
    "    mae, cep, drms, loss = result_queue.get()\n",
    "    maes.append(mae)\n",
    "    ceps.append(cep)\n",
    "    drmss.append(drms)\n",
    "    losses.append(loss)"
   ]
  },
  {
   "cell_type": "code",
   "execution_count": 16,
   "metadata": {},
   "outputs": [],
   "source": [
    "maes = np.asarray(maes)\n",
    "ceps = np.asarray(ceps)\n",
    "drmss = np.asarray(drmss)\n",
    "losses = np.asarray(losses)"
   ]
  },
  {
   "cell_type": "code",
   "execution_count": 17,
   "metadata": {},
   "outputs": [],
   "source": [
    "import matplotlib.pyplot as plt"
   ]
  },
  {
   "cell_type": "code",
   "execution_count": 18,
   "metadata": {},
   "outputs": [
    {
     "data": {
      "image/png": "[encoded data removed]",
      "text/plain": [
       "<Figure size 640x480 with 1 Axes>"
      ]
     },
     "metadata": {},
     "output_type": "display_data"
    }
   ],
   "source": [
    "plt.hist(maes)\n",
    "plt.show()"
   ]
  },
  {
   "cell_type": "code",
   "execution_count": 19,
   "metadata": {},
   "outputs": [
    {
     "data": {
      "image/png": "[encoded data removed]",
      "text/plain": [
       "<Figure size 640x480 with 1 Axes>"
      ]
     },
     "metadata": {},
     "output_type": "display_data"
    }
   ],
   "source": [
    "plt.hist(ceps)\n",
    "plt.show()"
   ]
  },
  {
   "cell_type": "code",
   "execution_count": 20,
   "metadata": {},
   "outputs": [
    {
     "name": "stdout",
     "output_type": "stream",
     "text": [
      "Mean MAE: 0.393\n",
      "Mean CEP: 0.308\n"
     ]
    }
   ],
   "source": [
    "print(f\"Mean MAE: {np.mean(maes):.3f}\")\n",
    "print(f\"Mean CEP: {np.mean(ceps):.3f}\")"
   ]
  },
  {
   "cell_type": "code",
   "execution_count": 21,
   "metadata": {},
   "outputs": [
    {
     "data": {
      "image/png": "[encoded data removed]",
      "text/plain": [
       "<Figure size 640x480 with 1 Axes>"
      ]
     },
     "metadata": {},
     "output_type": "display_data"
    }
   ],
   "source": [
    "plt.hist(losses)\n",
    "plt.show()"
   ]
  },
  {
   "cell_type": "code",
   "execution_count": 22,
   "metadata": {},
   "outputs": [
    {
     "data": {
      "image/png": "[encoded data removed]",
      "text/plain": [
       "<Figure size 640x480 with 1 Axes>"
      ]
     },
     "metadata": {},
     "output_type": "display_data"
    }
   ],
   "source": [
    "plt.hist(drmss)\n",
    "plt.show()"
   ]
  },
  {
   "cell_type": "code",
   "execution_count": 23,
   "metadata": {},
   "outputs": [
    {
     "name": "stdout",
     "output_type": "stream",
     "text": [
      "Mean MAE : 0.393\n",
      "Mean CEP : 0.308\n",
      "Mean DRMS: 0.510\n"
     ]
    }
   ],
   "source": [
    "print(f\"Mean MAE : {np.mean(maes):.3f}\")\n",
    "print(f\"Mean CEP : {np.mean(ceps):.3f}\")\n",
    "print(f\"Mean DRMS: {np.mean(drmss):.3f}\")"
   ]
  },
  {
   "cell_type": "code",
   "execution_count": 24,
   "metadata": {},
   "outputs": [
    {
     "data": {
      "image/png": "[encoded data removed]",
      "text/plain": [
       "<Figure size 640x480 with 1 Axes>"
      ]
     },
     "metadata": {},
     "output_type": "display_data"
    }
   ],
   "source": [
    "plt.scatter(losses, maes)\n",
    "plt.show()"
   ]
  },
  {
   "cell_type": "code",
   "execution_count": 25,
   "metadata": {},
   "outputs": [],
   "source": [
    "loss_sort_order = np.argsort(losses)"
   ]
  },
  {
   "cell_type": "code",
   "execution_count": 26,
   "metadata": {},
   "outputs": [
    {
     "name": "stdout",
     "output_type": "stream",
     "text": [
      "Results for 20 training passes with lowest loss\n",
      "Mean MAE : 0.350\n",
      "Mean CEP : 0.283\n",
      "Mean DRMS: 0.452\n"
     ]
    }
   ],
   "source": [
    "# Here, we use the results only for the training passes with the lowest losses, since we can detect if training has not found the global optimum\n",
    "print(\"Results for 20 training passes with lowest loss\")\n",
    "print(f\"Mean MAE : {np.mean(maes[loss_sort_order][:20]):.3f}\")\n",
    "print(f\"Mean CEP : {np.mean(ceps[loss_sort_order][:20]):.3f}\")\n",
    "print(f\"Mean DRMS: {np.mean(drmss[loss_sort_order][:20]):.3f}\")"
   ]
  },
  {
   "cell_type": "code",
   "execution_count": null,
   "metadata": {},
   "outputs": [],
   "source": []
  }
 ],
 "metadata": {
  "kernelspec": {
   "display_name": "Python 3 (ipykernel)",
   "language": "python",
   "name": "python3"
  },
  "language_info": {
   "codemirror_mode": {
    "name": "ipython",
    "version": 3
   },
   "file_extension": ".py",
   "mimetype": "text/x-python",
   "name": "python",
   "nbconvert_exporter": "python",
   "pygments_lexer": "ipython3",
   "version": "3.11.7"
  }
 },
 "nbformat": 4,
 "nbformat_minor": 4
}
