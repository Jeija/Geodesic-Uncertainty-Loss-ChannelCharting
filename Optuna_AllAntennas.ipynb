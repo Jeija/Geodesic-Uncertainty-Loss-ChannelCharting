{
 "cells": [
  {
   "cell_type": "code",
   "execution_count": 1,
   "metadata": {},
   "outputs": [
    {
     "name": "stderr",
     "output_type": "stream",
     "text": [
      "2024-10-10 13:57:34.650959: I tensorflow/core/platform/cpu_feature_guard.cc:210] This TensorFlow binary is optimized to use available CPU instructions in performance-critical operations.\n",
      "To enable the following instructions: AVX2 FMA, in other operations, rebuild TensorFlow with the appropriate compiler flags.\n",
      "2024-10-10 13:57:35.463450: W tensorflow/compiler/tf2tensorrt/utils/py_utils.cc:38] TF-TRT Warning: Could not find TensorRT\n"
     ]
    }
   ],
   "source": [
    "import matplotlib.pyplot as plt\n",
    "import multiprocessing as mp\n",
    "import numpy as np\n",
    "\n",
    "import DissimilarityMetrics\n",
    "import ChannelChartingCore\n",
    "import Evaluation\n",
    "import logging\n",
    "import optuna"
   ]
  },
  {
   "cell_type": "code",
   "execution_count": 2,
   "metadata": {},
   "outputs": [],
   "source": [
    "def objective_process(BATCH_SIZE, LEARNING_RATE_INITIAL, LEARNING_RATE_FINAL, MIN_PATHHOPS, MAX_PATHHOPS, TRAINING_BATCHES, ACCELERATION_MEAN, ACCELERATION_VARIANCE, ACCELERATION_WEIGHT, ADP_METRIC_THRESHOLD, ADP_METRIC_SLOPE, ADP_METRIC_OFFSET, ADP_METRIC_VARIANCE_RATIO, REALIZATIONS_COUNT, VELOCITY_VARIANCE, result_queue):\n",
    "    import dichasus_cf0x\n",
    "    \n",
    "    def mean_variance_from_delta_adp(delta_adp):\n",
    "        mean = np.where(delta_adp == 0, 0, np.where(delta_adp > ADP_METRIC_THRESHOLD, np.inf, delta_adp * ADP_METRIC_SLOPE + ADP_METRIC_OFFSET))\n",
    "        variance = np.where(delta_adp == 0, 0, np.where(delta_adp > ADP_METRIC_THRESHOLD, np.inf, ADP_METRIC_VARIANCE_RATIO * mean))\n",
    "    \n",
    "        return mean, variance\n",
    "    \n",
    "    adp_metric = DissimilarityMetrics.ADPDissimilarityMetric(dichasus_cf0x.csi_time_domain, mean_variance_from_delta_adp)\n",
    "\n",
    "    velocity_mean = 0.25\n",
    "    velocity_variance = VELOCITY_VARIANCE\n",
    "    \n",
    "    # Make worste-case assumption of perfectly correlated velocities. This maximizes the variance.\n",
    "    velocity_metric = DissimilarityMetrics.VelocityDissimilarityMetric(velocity_mean, velocity_variance, True, dichasus_cf0x.timestamps)\n",
    "\n",
    "    GDM = ChannelChartingCore.GaussianDissimilarityModel([adp_metric, velocity_metric])\n",
    "    GDM.generate_short_paths(realization_count = REALIZATIONS_COUNT)\n",
    "\n",
    "    cc = ChannelChartingCore.ChannelChart(GDM, dichasus_cf0x.csi_time_domain, dichasus_cf0x.timestamps, batch_size = BATCH_SIZE, learning_rate_initial = LEARNING_RATE_INITIAL, learning_rate_final = LEARNING_RATE_FINAL, min_pathhops = MIN_PATHHOPS, max_pathhops = MAX_PATHHOPS, training_batches = TRAINING_BATCHES, acceleration_mean = ACCELERATION_MEAN, acceleration_variance = ACCELERATION_VARIANCE, acceleration_weight = ACCELERATION_WEIGHT)\n",
    "\n",
    "    channel_chart_positions = cc.predict(dichasus_cf0x.csi_time_domain)\n",
    "\n",
    "    channel_chart_positions_transformed, errorvectors, errors, mae, cep = Evaluation.mean_absolute_error_transformed(dichasus_cf0x.groundtruth_positions, channel_chart_positions)\n",
    "    result_queue.put(mae)"
   ]
  },
  {
   "cell_type": "code",
   "execution_count": 3,
   "metadata": {},
   "outputs": [],
   "source": [
    "def objective(trial):\n",
    "    # default values:\n",
    "    #BATCH_SIZE = 3000\n",
    "    #LEARNING_RATE_INITIAL = 1e-2\n",
    "    #LEARNING_RATE_FINAL = 1e-2\n",
    "    #MIN_PATHHOPS = 1\n",
    "    #MAX_PATHHOPS = 30\n",
    "    #TRAINING_BATCHES = 2000\n",
    "    #ACCELERATION_MEAN = 0.8\n",
    "    #ACCELERATION_VARIANCE = 1.7\n",
    "    #ACCELERATION_WEIGHT = 0.01\n",
    "    #ADP_METRIC_THRESHOLD = 20\n",
    "    #ADP_METRIC_SLOPE = 0.0025\n",
    "    #ADP_METRIC_OFFSET = 0.004\n",
    "    #ADP_METRIC_VARIANCE_RATIO = 0.01\n",
    "    #REALIZATIONS_COUNT = 8\n",
    "    #VELOCITY_VARIANCE = 0.008\n",
    "\n",
    "    BATCH_SIZE = trial.suggest_int(\"BATCH_SIZE\", 2000, 4000)\n",
    "    LEARNING_RATE_INITIAL = trial.suggest_float(\"LEARNING_RATE_INITIAL\", 8e-3, 5e-2)\n",
    "    LEARNING_RATE_FINAL = trial.suggest_float(\"LEARNING_RATE_FINAL\", 5e-4, 8e-3)\n",
    "    MIN_PATHHOPS = trial.suggest_int(\"MIN_PATHHOPS\", 1, 8)\n",
    "    MAX_PATHHOPS = trial.suggest_int(\"MAX_PATHHOPS\", 8, 50)\n",
    "    TRAINING_BATCHES = trial.suggest_int(\"TRAINING_BATCHES\", 1000, 3000)\n",
    "    ACCELERATION_MEAN = trial.suggest_float(\"ACCELERATION_MEAN\", 0, 1.4)\n",
    "    ACCELERATION_VARIANCE = trial.suggest_float(\"ACCELERATION_VARIANCE\", 1.0, 3.0)\n",
    "    ACCELERATION_WEIGHT = trial.suggest_float(\"ACCELERATION_WEIGHT\", 0.00, 0.03)\n",
    "    ADP_METRIC_THRESHOLD = trial.suggest_int(\"ADP_METRIC_THRESHOLD\", 15, 23)\n",
    "    ADP_METRIC_SLOPE = trial.suggest_float(\"ADP_METRIC_SLOPE\", 0.0015, 0.0035)\n",
    "    ADP_METRIC_OFFSET = trial.suggest_float(\"ADP_METRIC_OFFSET\", 0.002, 0.008)\n",
    "    ADP_METRIC_VARIANCE_RATIO =  trial.suggest_float(\"ADP_METRIC_VARIANCE_RATIO\", 0.005, 0.02)\n",
    "    VELOCITY_VARIANCE = trial.suggest_float(\"VELOCITY_VARIANCE\", 0.004, 0.02)\n",
    "    REALIZATIONS_COUNT = trial.suggest_categorical(\"REALIZATIONS_COUNT\", [8, 16])\n",
    "\n",
    "    result_queue = mp.Queue()\n",
    "\n",
    "    p = mp.Process(target=objective_process, args=(BATCH_SIZE, LEARNING_RATE_INITIAL, LEARNING_RATE_FINAL, MIN_PATHHOPS, MAX_PATHHOPS, TRAINING_BATCHES, ACCELERATION_MEAN, ACCELERATION_VARIANCE, ACCELERATION_WEIGHT, ADP_METRIC_THRESHOLD, ADP_METRIC_SLOPE, ADP_METRIC_OFFSET, ADP_METRIC_VARIANCE_RATIO, REALIZATIONS_COUNT, VELOCITY_VARIANCE, result_queue))\n",
    "    p.start()\n",
    "    p.join()\n",
    "\n",
    "    return result_queue.get()"
   ]
  },
  {
   "cell_type": "code",
   "execution_count": null,
   "metadata": {},
   "outputs": [
    {
     "name": "stderr",
     "output_type": "stream",
     "text": [
      "[I 2024-10-10 13:57:36,853] A new study created in memory with name: no-name-d87ae91e-8405-4dda-be1f-ef7824083ba3\n",
      "2024-10-10 13:57:36.933252: I external/local_xla/xla/stream_executor/cuda/cuda_executor.cc:998] successful NUMA node read from SysFS had negative value (-1), but there must be at least one NUMA node, so returning NUMA node zero. See more at https://github.com/torvalds/linux/blob/v6.0/Documentation/ABI/testing/sysfs-bus-pci#L344-L355\n",
      "2024-10-10 13:57:36.988017: I external/local_xla/xla/stream_executor/cuda/cuda_executor.cc:998] successful NUMA node read from SysFS had negative value (-1), but there must be at least one NUMA node, so returning NUMA node zero. See more at https://github.com/torvalds/linux/blob/v6.0/Documentation/ABI/testing/sysfs-bus-pci#L344-L355\n",
      "2024-10-10 13:57:36.988415: I external/local_xla/xla/stream_executor/cuda/cuda_executor.cc:998] successful NUMA node read from SysFS had negative value (-1), but there must be at least one NUMA node, so returning NUMA node zero. See more at https://github.com/torvalds/linux/blob/v6.0/Documentation/ABI/testing/sysfs-bus-pci#L344-L355\n",
      "2024-10-10 13:57:36.992012: I external/local_xla/xla/stream_executor/cuda/cuda_executor.cc:998] successful NUMA node read from SysFS had negative value (-1), but there must be at least one NUMA node, so returning NUMA node zero. See more at https://github.com/torvalds/linux/blob/v6.0/Documentation/ABI/testing/sysfs-bus-pci#L344-L355\n",
      "2024-10-10 13:57:36.992334: I external/local_xla/xla/stream_executor/cuda/cuda_executor.cc:998] successful NUMA node read from SysFS had negative value (-1), but there must be at least one NUMA node, so returning NUMA node zero. See more at https://github.com/torvalds/linux/blob/v6.0/Documentation/ABI/testing/sysfs-bus-pci#L344-L355\n",
      "2024-10-10 13:57:36.992627: I external/local_xla/xla/stream_executor/cuda/cuda_executor.cc:998] successful NUMA node read from SysFS had negative value (-1), but there must be at least one NUMA node, so returning NUMA node zero. See more at https://github.com/torvalds/linux/blob/v6.0/Documentation/ABI/testing/sysfs-bus-pci#L344-L355\n",
      "2024-10-10 13:57:37.089856: I external/local_xla/xla/stream_executor/cuda/cuda_executor.cc:998] successful NUMA node read from SysFS had negative value (-1), but there must be at least one NUMA node, so returning NUMA node zero. See more at https://github.com/torvalds/linux/blob/v6.0/Documentation/ABI/testing/sysfs-bus-pci#L344-L355\n",
      "2024-10-10 13:57:37.090227: I external/local_xla/xla/stream_executor/cuda/cuda_executor.cc:998] successful NUMA node read from SysFS had negative value (-1), but there must be at least one NUMA node, so returning NUMA node zero. See more at https://github.com/torvalds/linux/blob/v6.0/Documentation/ABI/testing/sysfs-bus-pci#L344-L355\n",
      "2024-10-10 13:57:37.090657: I external/local_xla/xla/stream_executor/cuda/cuda_executor.cc:998] successful NUMA node read from SysFS had negative value (-1), but there must be at least one NUMA node, so returning NUMA node zero. See more at https://github.com/torvalds/linux/blob/v6.0/Documentation/ABI/testing/sysfs-bus-pci#L344-L355\n",
      "2024-10-10 13:57:37.090895: I tensorflow/core/common_runtime/gpu/gpu_device.cc:1928] Created device /job:localhost/replica:0/task:0/device:GPU:0 with 14301 MB memory:  -> device: 0, name: NVIDIA GeForce RTX 4080, pci bus id: 0000:c1:00.0, compute capability: 8.9\n",
      "2024-10-10 13:57:58.785909: W tensorflow/core/framework/local_rendezvous.cc:404] Local rendezvous is aborting with status: OUT_OF_RANGE: End of sequence\n"
     ]
    },
    {
     "name": "stdout",
     "output_type": "stream",
     "text": [
      "Generating dissimilarity realizations...\n"
     ]
    },
    {
     "data": {
      "application/vnd.jupyter.widget-view+json": {
       "model_id": "4ec6e450f6de4e87ab64d92d48927f63",
       "version_major": 2,
       "version_minor": 0
      },
      "text/plain": [
       "  0%|          | 0/2 [00:00<?, ?it/s]"
      ]
     },
     "metadata": {},
     "output_type": "display_data"
    },
    {
     "name": "stdout",
     "output_type": "stream",
     "text": [
      "Choosing smallest dissimilarity realization pair-wise...\n",
      "Running shortest path algorithm...\n"
     ]
    },
    {
     "data": {
      "application/vnd.jupyter.widget-view+json": {
       "model_id": "0d51448866b7475b971f9c8c4a93e4d4",
       "version_major": 2,
       "version_minor": 0
      },
      "text/plain": [
       "Computing Shortest Paths:   0%|          | 0/52127500 [00:00<?, ?it/s]"
      ]
     },
     "metadata": {},
     "output_type": "display_data"
    },
    {
     "data": {
      "application/vnd.jupyter.widget-view+json": {
       "model_id": "d9ccec43aa1344a49bdc69ba5b444300",
       "version_major": 2,
       "version_minor": 0
      },
      "text/plain": [
       "Preparing Dijkstra Inputs:   0%|          | 0/2500 [00:00<?, ?it/s]"
      ]
     },
     "metadata": {},
     "output_type": "display_data"
    },
    {
     "data": {
      "application/vnd.jupyter.widget-view+json": {
       "model_id": "7b6a7a4ed06c4da7ae3df84137d631b6",
       "version_major": 2,
       "version_minor": 0
      },
      "text/plain": [
       "Starting Processes:   0%|          | 0/10 [00:00<?, ?it/s]"
      ]
     },
     "metadata": {},
     "output_type": "display_data"
    },
    {
     "name": "stdout",
     "output_type": "stream",
     "text": [
      "Generating dissimilarity realizations...\n"
     ]
    },
    {
     "data": {
      "application/vnd.jupyter.widget-view+json": {
       "model_id": "9453e5ed40b3495991982b1b88efb568",
       "version_major": 2,
       "version_minor": 0
      },
      "text/plain": [
       "  0%|          | 0/2 [00:00<?, ?it/s]"
      ]
     },
     "metadata": {},
     "output_type": "display_data"
    },
    {
     "name": "stdout",
     "output_type": "stream",
     "text": [
      "Choosing smallest dissimilarity realization pair-wise...\n",
      "Running shortest path algorithm...\n"
     ]
    },
    {
     "data": {
      "application/vnd.jupyter.widget-view+json": {
       "model_id": "aa0fa47991104870a108c98871c376d1",
       "version_major": 2,
       "version_minor": 0
      },
      "text/plain": [
       "Computing Shortest Paths:   0%|          | 0/52127500 [00:00<?, ?it/s]"
      ]
     },
     "metadata": {},
     "output_type": "display_data"
    },
    {
     "data": {
      "application/vnd.jupyter.widget-view+json": {
       "model_id": "d85540a88d3b4bcca2fc036c64d0d429",
       "version_major": 2,
       "version_minor": 0
      },
      "text/plain": [
       "Preparing Dijkstra Inputs:   0%|          | 0/2500 [00:00<?, ?it/s]"
      ]
     },
     "metadata": {},
     "output_type": "display_data"
    },
    {
     "data": {
      "application/vnd.jupyter.widget-view+json": {
       "model_id": "e4e59014339c4eb7b3b27dd02ff5392a",
       "version_major": 2,
       "version_minor": 0
      },
      "text/plain": [
       "Starting Processes:   0%|          | 0/10 [00:00<?, ?it/s]"
      ]
     },
     "metadata": {},
     "output_type": "display_data"
    },
    {
     "name": "stdout",
     "output_type": "stream",
     "text": [
      "Generating dissimilarity realizations...\n"
     ]
    },
    {
     "data": {
      "application/vnd.jupyter.widget-view+json": {
       "model_id": "9197c6228ee6430b989138d54dba65c2",
       "version_major": 2,
       "version_minor": 0
      },
      "text/plain": [
       "  0%|          | 0/2 [00:00<?, ?it/s]"
      ]
     },
     "metadata": {},
     "output_type": "display_data"
    },
    {
     "name": "stdout",
     "output_type": "stream",
     "text": [
      "Choosing smallest dissimilarity realization pair-wise...\n",
      "Running shortest path algorithm...\n"
     ]
    },
    {
     "data": {
      "application/vnd.jupyter.widget-view+json": {
       "model_id": "47efde4c884c45c18cdee2379fbc3c15",
       "version_major": 2,
       "version_minor": 0
      },
      "text/plain": [
       "Computing Shortest Paths:   0%|          | 0/52127500 [00:00<?, ?it/s]"
      ]
     },
     "metadata": {},
     "output_type": "display_data"
    },
    {
     "data": {
      "application/vnd.jupyter.widget-view+json": {
       "model_id": "18ed6f2e4b814c48a79eaf98d0970a6a",
       "version_major": 2,
       "version_minor": 0
      },
      "text/plain": [
       "Preparing Dijkstra Inputs:   0%|          | 0/2500 [00:00<?, ?it/s]"
      ]
     },
     "metadata": {},
     "output_type": "display_data"
    },
    {
     "data": {
      "application/vnd.jupyter.widget-view+json": {
       "model_id": "3795f636d5a840928ccce64a3aead3eb",
       "version_major": 2,
       "version_minor": 0
      },
      "text/plain": [
       "Starting Processes:   0%|          | 0/10 [00:00<?, ?it/s]"
      ]
     },
     "metadata": {},
     "output_type": "display_data"
    },
    {
     "name": "stdout",
     "output_type": "stream",
     "text": [
      "Generating dissimilarity realizations...\n"
     ]
    },
    {
     "data": {
      "application/vnd.jupyter.widget-view+json": {
       "model_id": "3a848f99b65c4fbbaf293bbb28244172",
       "version_major": 2,
       "version_minor": 0
      },
      "text/plain": [
       "  0%|          | 0/2 [00:00<?, ?it/s]"
      ]
     },
     "metadata": {},
     "output_type": "display_data"
    },
    {
     "name": "stdout",
     "output_type": "stream",
     "text": [
      "Choosing smallest dissimilarity realization pair-wise...\n",
      "Running shortest path algorithm...\n"
     ]
    },
    {
     "data": {
      "application/vnd.jupyter.widget-view+json": {
       "model_id": "cbff9602a99b493a9b0e4304fbb88be3",
       "version_major": 2,
       "version_minor": 0
      },
      "text/plain": [
       "Computing Shortest Paths:   0%|          | 0/52127500 [00:00<?, ?it/s]"
      ]
     },
     "metadata": {},
     "output_type": "display_data"
    },
    {
     "data": {
      "application/vnd.jupyter.widget-view+json": {
       "model_id": "1cef3135baef428d871af67d554718d7",
       "version_major": 2,
       "version_minor": 0
      },
      "text/plain": [
       "Preparing Dijkstra Inputs:   0%|          | 0/2500 [00:00<?, ?it/s]"
      ]
     },
     "metadata": {},
     "output_type": "display_data"
    },
    {
     "data": {
      "application/vnd.jupyter.widget-view+json": {
       "model_id": "55673ddc29c642b196d73390893a95bd",
       "version_major": 2,
       "version_minor": 0
      },
      "text/plain": [
       "Starting Processes:   0%|          | 0/10 [00:00<?, ?it/s]"
      ]
     },
     "metadata": {},
     "output_type": "display_data"
    },
    {
     "name": "stdout",
     "output_type": "stream",
     "text": [
      "Generating dissimilarity realizations...\n"
     ]
    },
    {
     "data": {
      "application/vnd.jupyter.widget-view+json": {
       "model_id": "ff5ecd20290d496f9d109ea5bdf3a2c5",
       "version_major": 2,
       "version_minor": 0
      },
      "text/plain": [
       "  0%|          | 0/2 [00:00<?, ?it/s]"
      ]
     },
     "metadata": {},
     "output_type": "display_data"
    },
    {
     "name": "stdout",
     "output_type": "stream",
     "text": [
      "Choosing smallest dissimilarity realization pair-wise...\n",
      "Running shortest path algorithm...\n"
     ]
    },
    {
     "data": {
      "application/vnd.jupyter.widget-view+json": {
       "model_id": "76c432faeef04d24b6f084ba4788ff47",
       "version_major": 2,
       "version_minor": 0
      },
      "text/plain": [
       "Computing Shortest Paths:   0%|          | 0/52127500 [00:00<?, ?it/s]"
      ]
     },
     "metadata": {},
     "output_type": "display_data"
    },
    {
     "data": {
      "application/vnd.jupyter.widget-view+json": {
       "model_id": "d3036d911a7446d18378a041a090fbae",
       "version_major": 2,
       "version_minor": 0
      },
      "text/plain": [
       "Preparing Dijkstra Inputs:   0%|          | 0/2500 [00:00<?, ?it/s]"
      ]
     },
     "metadata": {},
     "output_type": "display_data"
    },
    {
     "data": {
      "application/vnd.jupyter.widget-view+json": {
       "model_id": "876a827770b5425f86a4e28861fda4f8",
       "version_major": 2,
       "version_minor": 0
      },
      "text/plain": [
       "Starting Processes:   0%|          | 0/10 [00:00<?, ?it/s]"
      ]
     },
     "metadata": {},
     "output_type": "display_data"
    },
    {
     "name": "stdout",
     "output_type": "stream",
     "text": [
      "Generating dissimilarity realizations...\n"
     ]
    },
    {
     "data": {
      "application/vnd.jupyter.widget-view+json": {
       "model_id": "729c6145a74447789493a57e8d9da8a1",
       "version_major": 2,
       "version_minor": 0
      },
      "text/plain": [
       "  0%|          | 0/2 [00:00<?, ?it/s]"
      ]
     },
     "metadata": {},
     "output_type": "display_data"
    },
    {
     "name": "stdout",
     "output_type": "stream",
     "text": [
      "Choosing smallest dissimilarity realization pair-wise...\n",
      "Running shortest path algorithm...\n"
     ]
    },
    {
     "data": {
      "application/vnd.jupyter.widget-view+json": {
       "model_id": "b46f833d351346d190b9ac3f12aa5ae2",
       "version_major": 2,
       "version_minor": 0
      },
      "text/plain": [
       "Computing Shortest Paths:   0%|          | 0/52127500 [00:00<?, ?it/s]"
      ]
     },
     "metadata": {},
     "output_type": "display_data"
    },
    {
     "data": {
      "application/vnd.jupyter.widget-view+json": {
       "model_id": "35fc1c8d7c92487eb75a80c1eb900ee7",
       "version_major": 2,
       "version_minor": 0
      },
      "text/plain": [
       "Preparing Dijkstra Inputs:   0%|          | 0/2500 [00:00<?, ?it/s]"
      ]
     },
     "metadata": {},
     "output_type": "display_data"
    },
    {
     "data": {
      "application/vnd.jupyter.widget-view+json": {
       "model_id": "d6cf67baf0844693b9c1235d700865f7",
       "version_major": 2,
       "version_minor": 0
      },
      "text/plain": [
       "Starting Processes:   0%|          | 0/10 [00:00<?, ?it/s]"
      ]
     },
     "metadata": {},
     "output_type": "display_data"
    },
    {
     "name": "stdout",
     "output_type": "stream",
     "text": [
      "Generating dissimilarity realizations...\n"
     ]
    },
    {
     "data": {
      "application/vnd.jupyter.widget-view+json": {
       "model_id": "6bc8bec7e6e24c9086e4d20c35d9b02e",
       "version_major": 2,
       "version_minor": 0
      },
      "text/plain": [
       "  0%|          | 0/2 [00:00<?, ?it/s]"
      ]
     },
     "metadata": {},
     "output_type": "display_data"
    },
    {
     "name": "stdout",
     "output_type": "stream",
     "text": [
      "Choosing smallest dissimilarity realization pair-wise...\n",
      "Running shortest path algorithm...\n"
     ]
    },
    {
     "data": {
      "application/vnd.jupyter.widget-view+json": {
       "model_id": "8c076fc8ddf34515aead8bb36fa06a7d",
       "version_major": 2,
       "version_minor": 0
      },
      "text/plain": [
       "Computing Shortest Paths:   0%|          | 0/52127500 [00:00<?, ?it/s]"
      ]
     },
     "metadata": {},
     "output_type": "display_data"
    },
    {
     "data": {
      "application/vnd.jupyter.widget-view+json": {
       "model_id": "28ec1387e2204870815e90e03b552af4",
       "version_major": 2,
       "version_minor": 0
      },
      "text/plain": [
       "Preparing Dijkstra Inputs:   0%|          | 0/2500 [00:00<?, ?it/s]"
      ]
     },
     "metadata": {},
     "output_type": "display_data"
    },
    {
     "data": {
      "application/vnd.jupyter.widget-view+json": {
       "model_id": "c26299443f1940dc9c496ec7b6d30a1b",
       "version_major": 2,
       "version_minor": 0
      },
      "text/plain": [
       "Starting Processes:   0%|          | 0/10 [00:00<?, ?it/s]"
      ]
     },
     "metadata": {},
     "output_type": "display_data"
    },
    {
     "name": "stdout",
     "output_type": "stream",
     "text": [
      "Generating dissimilarity realizations...\n"
     ]
    },
    {
     "data": {
      "application/vnd.jupyter.widget-view+json": {
       "model_id": "3be1fa30f900458083f8b0c4b06e6d05",
       "version_major": 2,
       "version_minor": 0
      },
      "text/plain": [
       "  0%|          | 0/2 [00:00<?, ?it/s]"
      ]
     },
     "metadata": {},
     "output_type": "display_data"
    },
    {
     "name": "stdout",
     "output_type": "stream",
     "text": [
      "Choosing smallest dissimilarity realization pair-wise...\n",
      "Running shortest path algorithm...\n"
     ]
    },
    {
     "data": {
      "application/vnd.jupyter.widget-view+json": {
       "model_id": "0728f27a20104b409bdd9a5357840f95",
       "version_major": 2,
       "version_minor": 0
      },
      "text/plain": [
       "Computing Shortest Paths:   0%|          | 0/52127500 [00:00<?, ?it/s]"
      ]
     },
     "metadata": {},
     "output_type": "display_data"
    },
    {
     "data": {
      "application/vnd.jupyter.widget-view+json": {
       "model_id": "f9dfc06616344bc2bb46761455380741",
       "version_major": 2,
       "version_minor": 0
      },
      "text/plain": [
       "Preparing Dijkstra Inputs:   0%|          | 0/2500 [00:00<?, ?it/s]"
      ]
     },
     "metadata": {},
     "output_type": "display_data"
    },
    {
     "data": {
      "application/vnd.jupyter.widget-view+json": {
       "model_id": "b77ea9428afe4639b67906e8140b4ebc",
       "version_major": 2,
       "version_minor": 0
      },
      "text/plain": [
       "Starting Processes:   0%|          | 0/10 [00:00<?, ?it/s]"
      ]
     },
     "metadata": {},
     "output_type": "display_data"
    },
    {
     "name": "stdout",
     "output_type": "stream",
     "text": [
      "Generating dissimilarity realizations...\n"
     ]
    },
    {
     "data": {
      "application/vnd.jupyter.widget-view+json": {
       "model_id": "add402cafe244e1b9c12f647347d58a5",
       "version_major": 2,
       "version_minor": 0
      },
      "text/plain": [
       "  0%|          | 0/2 [00:00<?, ?it/s]"
      ]
     },
     "metadata": {},
     "output_type": "display_data"
    },
    {
     "name": "stdout",
     "output_type": "stream",
     "text": [
      "Choosing smallest dissimilarity realization pair-wise...\n",
      "Running shortest path algorithm...\n"
     ]
    },
    {
     "data": {
      "application/vnd.jupyter.widget-view+json": {
       "model_id": "6b43994f9a394a1bb6eac10988958847",
       "version_major": 2,
       "version_minor": 0
      },
      "text/plain": [
       "Computing Shortest Paths:   0%|          | 0/52127500 [00:00<?, ?it/s]"
      ]
     },
     "metadata": {},
     "output_type": "display_data"
    },
    {
     "data": {
      "application/vnd.jupyter.widget-view+json": {
       "model_id": "f7b443cdc9de4234965ab3651c9d3c45",
       "version_major": 2,
       "version_minor": 0
      },
      "text/plain": [
       "Preparing Dijkstra Inputs:   0%|          | 0/2500 [00:00<?, ?it/s]"
      ]
     },
     "metadata": {},
     "output_type": "display_data"
    },
    {
     "data": {
      "application/vnd.jupyter.widget-view+json": {
       "model_id": "c009b8702ade45dbbb95ba7ec4df4182",
       "version_major": 2,
       "version_minor": 0
      },
      "text/plain": [
       "Starting Processes:   0%|          | 0/10 [00:00<?, ?it/s]"
      ]
     },
     "metadata": {},
     "output_type": "display_data"
    },
    {
     "name": "stdout",
     "output_type": "stream",
     "text": [
      "Generating dissimilarity realizations...\n"
     ]
    },
    {
     "data": {
      "application/vnd.jupyter.widget-view+json": {
       "model_id": "0ede98d67f6b4f17a785817071e27893",
       "version_major": 2,
       "version_minor": 0
      },
      "text/plain": [
       "  0%|          | 0/2 [00:00<?, ?it/s]"
      ]
     },
     "metadata": {},
     "output_type": "display_data"
    },
    {
     "name": "stdout",
     "output_type": "stream",
     "text": [
      "Choosing smallest dissimilarity realization pair-wise...\n",
      "Running shortest path algorithm...\n"
     ]
    },
    {
     "data": {
      "application/vnd.jupyter.widget-view+json": {
       "model_id": "d0b0d707bc164ec6aaac0d8790185545",
       "version_major": 2,
       "version_minor": 0
      },
      "text/plain": [
       "Computing Shortest Paths:   0%|          | 0/52127500 [00:00<?, ?it/s]"
      ]
     },
     "metadata": {},
     "output_type": "display_data"
    },
    {
     "data": {
      "application/vnd.jupyter.widget-view+json": {
       "model_id": "a6deb71b290b4864b2a4655c1fdb580d",
       "version_major": 2,
       "version_minor": 0
      },
      "text/plain": [
       "Preparing Dijkstra Inputs:   0%|          | 0/2500 [00:00<?, ?it/s]"
      ]
     },
     "metadata": {},
     "output_type": "display_data"
    },
    {
     "data": {
      "application/vnd.jupyter.widget-view+json": {
       "model_id": "ccd2db892f38401a992fd686fcc74ca1",
       "version_major": 2,
       "version_minor": 0
      },
      "text/plain": [
       "Starting Processes:   0%|          | 0/10 [00:00<?, ?it/s]"
      ]
     },
     "metadata": {},
     "output_type": "display_data"
    },
    {
     "name": "stdout",
     "output_type": "stream",
     "text": [
      "Generating dissimilarity realizations...\n"
     ]
    },
    {
     "data": {
      "application/vnd.jupyter.widget-view+json": {
       "model_id": "ac1334506c9643f998507a285571040c",
       "version_major": 2,
       "version_minor": 0
      },
      "text/plain": [
       "  0%|          | 0/2 [00:00<?, ?it/s]"
      ]
     },
     "metadata": {},
     "output_type": "display_data"
    },
    {
     "name": "stdout",
     "output_type": "stream",
     "text": [
      "Choosing smallest dissimilarity realization pair-wise...\n",
      "Running shortest path algorithm...\n"
     ]
    },
    {
     "data": {
      "application/vnd.jupyter.widget-view+json": {
       "model_id": "70dba2775fc9431996703fba3df1e822",
       "version_major": 2,
       "version_minor": 0
      },
      "text/plain": [
       "Computing Shortest Paths:   0%|          | 0/52127500 [00:00<?, ?it/s]"
      ]
     },
     "metadata": {},
     "output_type": "display_data"
    },
    {
     "data": {
      "application/vnd.jupyter.widget-view+json": {
       "model_id": "bb2d74e65d8c457c9f832a8564abf74c",
       "version_major": 2,
       "version_minor": 0
      },
      "text/plain": [
       "Preparing Dijkstra Inputs:   0%|          | 0/2500 [00:00<?, ?it/s]"
      ]
     },
     "metadata": {},
     "output_type": "display_data"
    },
    {
     "data": {
      "application/vnd.jupyter.widget-view+json": {
       "model_id": "da8e8669cd964e7fb14fb74b9d2ab4cb",
       "version_major": 2,
       "version_minor": 0
      },
      "text/plain": [
       "Starting Processes:   0%|          | 0/10 [00:00<?, ?it/s]"
      ]
     },
     "metadata": {},
     "output_type": "display_data"
    },
    {
     "name": "stdout",
     "output_type": "stream",
     "text": [
      "Generating dissimilarity realizations...\n"
     ]
    },
    {
     "data": {
      "application/vnd.jupyter.widget-view+json": {
       "model_id": "24d7fa3a21944aeba13c7247711a0ce9",
       "version_major": 2,
       "version_minor": 0
      },
      "text/plain": [
       "  0%|          | 0/2 [00:00<?, ?it/s]"
      ]
     },
     "metadata": {},
     "output_type": "display_data"
    },
    {
     "name": "stdout",
     "output_type": "stream",
     "text": [
      "Choosing smallest dissimilarity realization pair-wise...\n",
      "Running shortest path algorithm...\n"
     ]
    },
    {
     "data": {
      "application/vnd.jupyter.widget-view+json": {
       "model_id": "99e548e9d2c64772808ce9897fc3814e",
       "version_major": 2,
       "version_minor": 0
      },
      "text/plain": [
       "Computing Shortest Paths:   0%|          | 0/52127500 [00:00<?, ?it/s]"
      ]
     },
     "metadata": {},
     "output_type": "display_data"
    },
    {
     "data": {
      "application/vnd.jupyter.widget-view+json": {
       "model_id": "52b8c7207e0d433c9f79ab648abe8d5d",
       "version_major": 2,
       "version_minor": 0
      },
      "text/plain": [
       "Preparing Dijkstra Inputs:   0%|          | 0/2500 [00:00<?, ?it/s]"
      ]
     },
     "metadata": {},
     "output_type": "display_data"
    },
    {
     "data": {
      "application/vnd.jupyter.widget-view+json": {
       "model_id": "543811c2ed1843f69364c12fc7d67518",
       "version_major": 2,
       "version_minor": 0
      },
      "text/plain": [
       "Starting Processes:   0%|          | 0/10 [00:00<?, ?it/s]"
      ]
     },
     "metadata": {},
     "output_type": "display_data"
    },
    {
     "name": "stdout",
     "output_type": "stream",
     "text": [
      "Generating dissimilarity realizations...\n"
     ]
    },
    {
     "data": {
      "application/vnd.jupyter.widget-view+json": {
       "model_id": "00d2180ae0f24e07967fecc303ea6e75",
       "version_major": 2,
       "version_minor": 0
      },
      "text/plain": [
       "  0%|          | 0/2 [00:00<?, ?it/s]"
      ]
     },
     "metadata": {},
     "output_type": "display_data"
    },
    {
     "name": "stdout",
     "output_type": "stream",
     "text": [
      "Choosing smallest dissimilarity realization pair-wise...\n",
      "Running shortest path algorithm...\n"
     ]
    },
    {
     "data": {
      "application/vnd.jupyter.widget-view+json": {
       "model_id": "d401f3b7c22e44d08b96e8b8f4ac6212",
       "version_major": 2,
       "version_minor": 0
      },
      "text/plain": [
       "Computing Shortest Paths:   0%|          | 0/52127500 [00:00<?, ?it/s]"
      ]
     },
     "metadata": {},
     "output_type": "display_data"
    },
    {
     "data": {
      "application/vnd.jupyter.widget-view+json": {
       "model_id": "7df4b4f51d024c49a67999d5f864dc68",
       "version_major": 2,
       "version_minor": 0
      },
      "text/plain": [
       "Preparing Dijkstra Inputs:   0%|          | 0/2500 [00:00<?, ?it/s]"
      ]
     },
     "metadata": {},
     "output_type": "display_data"
    },
    {
     "data": {
      "application/vnd.jupyter.widget-view+json": {
       "model_id": "8dee4ad120504f42bd133a63d0f1889d",
       "version_major": 2,
       "version_minor": 0
      },
      "text/plain": [
       "Starting Processes:   0%|          | 0/10 [00:00<?, ?it/s]"
      ]
     },
     "metadata": {},
     "output_type": "display_data"
    },
    {
     "name": "stdout",
     "output_type": "stream",
     "text": [
      "Generating dissimilarity realizations...\n"
     ]
    },
    {
     "data": {
      "application/vnd.jupyter.widget-view+json": {
       "model_id": "3e5b3ab491b34ca1b3793f44057d0db2",
       "version_major": 2,
       "version_minor": 0
      },
      "text/plain": [
       "  0%|          | 0/2 [00:00<?, ?it/s]"
      ]
     },
     "metadata": {},
     "output_type": "display_data"
    },
    {
     "name": "stdout",
     "output_type": "stream",
     "text": [
      "Choosing smallest dissimilarity realization pair-wise...\n",
      "Running shortest path algorithm...\n"
     ]
    },
    {
     "data": {
      "application/vnd.jupyter.widget-view+json": {
       "model_id": "dc28b133ec974b5099083c7cb72e2a06",
       "version_major": 2,
       "version_minor": 0
      },
      "text/plain": [
       "Computing Shortest Paths:   0%|          | 0/52127500 [00:00<?, ?it/s]"
      ]
     },
     "metadata": {},
     "output_type": "display_data"
    },
    {
     "data": {
      "application/vnd.jupyter.widget-view+json": {
       "model_id": "6d6aa70b07cb440e84a8868629390b84",
       "version_major": 2,
       "version_minor": 0
      },
      "text/plain": [
       "Preparing Dijkstra Inputs:   0%|          | 0/2500 [00:00<?, ?it/s]"
      ]
     },
     "metadata": {},
     "output_type": "display_data"
    },
    {
     "data": {
      "application/vnd.jupyter.widget-view+json": {
       "model_id": "725b98a8987645659dd714de27601ff3",
       "version_major": 2,
       "version_minor": 0
      },
      "text/plain": [
       "Starting Processes:   0%|          | 0/10 [00:00<?, ?it/s]"
      ]
     },
     "metadata": {},
     "output_type": "display_data"
    },
    {
     "name": "stdout",
     "output_type": "stream",
     "text": [
      "Generating dissimilarity realizations...\n"
     ]
    },
    {
     "data": {
      "application/vnd.jupyter.widget-view+json": {
       "model_id": "c99e039b616b47c3ac6ba716caf67aa6",
       "version_major": 2,
       "version_minor": 0
      },
      "text/plain": [
       "  0%|          | 0/2 [00:00<?, ?it/s]"
      ]
     },
     "metadata": {},
     "output_type": "display_data"
    },
    {
     "name": "stdout",
     "output_type": "stream",
     "text": [
      "Choosing smallest dissimilarity realization pair-wise...\n",
      "Running shortest path algorithm...\n"
     ]
    },
    {
     "data": {
      "application/vnd.jupyter.widget-view+json": {
       "model_id": "9e73c5c41b9f4441a58c2eb01ef2d6f5",
       "version_major": 2,
       "version_minor": 0
      },
      "text/plain": [
       "Computing Shortest Paths:   0%|          | 0/52127500 [00:00<?, ?it/s]"
      ]
     },
     "metadata": {},
     "output_type": "display_data"
    },
    {
     "data": {
      "application/vnd.jupyter.widget-view+json": {
       "model_id": "1a20a0f6c2af4aca85a76a787cd6bfff",
       "version_major": 2,
       "version_minor": 0
      },
      "text/plain": [
       "Preparing Dijkstra Inputs:   0%|          | 0/2500 [00:00<?, ?it/s]"
      ]
     },
     "metadata": {},
     "output_type": "display_data"
    },
    {
     "data": {
      "application/vnd.jupyter.widget-view+json": {
       "model_id": "830b0fe4ac474611a75f09d5ff75ecba",
       "version_major": 2,
       "version_minor": 0
      },
      "text/plain": [
       "Starting Processes:   0%|          | 0/10 [00:00<?, ?it/s]"
      ]
     },
     "metadata": {},
     "output_type": "display_data"
    },
    {
     "name": "stdout",
     "output_type": "stream",
     "text": [
      "Generating dissimilarity realizations...\n"
     ]
    },
    {
     "data": {
      "application/vnd.jupyter.widget-view+json": {
       "model_id": "d6ecf378b81c4a7e85bc5679c716afc7",
       "version_major": 2,
       "version_minor": 0
      },
      "text/plain": [
       "  0%|          | 0/2 [00:00<?, ?it/s]"
      ]
     },
     "metadata": {},
     "output_type": "display_data"
    },
    {
     "name": "stdout",
     "output_type": "stream",
     "text": [
      "Choosing smallest dissimilarity realization pair-wise...\n",
      "Running shortest path algorithm...\n"
     ]
    },
    {
     "data": {
      "application/vnd.jupyter.widget-view+json": {
       "model_id": "c80df0bb8ee445d2b5371447e0322473",
       "version_major": 2,
       "version_minor": 0
      },
      "text/plain": [
       "Computing Shortest Paths:   0%|          | 0/52127500 [00:00<?, ?it/s]"
      ]
     },
     "metadata": {},
     "output_type": "display_data"
    },
    {
     "data": {
      "application/vnd.jupyter.widget-view+json": {
       "model_id": "55e9ad15428342c9ba58becfa598a908",
       "version_major": 2,
       "version_minor": 0
      },
      "text/plain": [
       "Preparing Dijkstra Inputs:   0%|          | 0/2500 [00:00<?, ?it/s]"
      ]
     },
     "metadata": {},
     "output_type": "display_data"
    },
    {
     "data": {
      "application/vnd.jupyter.widget-view+json": {
       "model_id": "64905a2f48b74389a1f8a70ea6558356",
       "version_major": 2,
       "version_minor": 0
      },
      "text/plain": [
       "Starting Processes:   0%|          | 0/10 [00:00<?, ?it/s]"
      ]
     },
     "metadata": {},
     "output_type": "display_data"
    },
    {
     "name": "stdout",
     "output_type": "stream",
     "text": [
      "Contracting paths for metric VelocityDissimilarityMetric\n",
      "43819676 path sections remain to be contracted\n",
      "13970848 path sections remain to be contracted\n",
      "2707879 path sections remain to be contracted\n",
      "109758 path sections remain to be contracted\n",
      "630 path sections remain to be contracted\n",
      "0 path sections remain to be contracted\n",
      "Determining longest short path...\n"
     ]
    },
    {
     "data": {
      "application/vnd.jupyter.widget-view+json": {
       "model_id": "c4f2c7245cd24b60a2f20a48f04734b4",
       "version_major": 2,
       "version_minor": 0
      },
      "text/plain": [
       "Computing longest paths:   0%|          | 0/40000 [00:00<?, ?it/s]"
      ]
     },
     "metadata": {},
     "output_type": "display_data"
    },
    {
     "data": {
      "application/vnd.jupyter.widget-view+json": {
       "model_id": "b1a2dcf12efc41e88a508faee4f16e0c",
       "version_major": 2,
       "version_minor": 0
      },
      "text/plain": [
       "Preparing tasks:   0%|          | 0/40000 [00:00<?, ?it/s]"
      ]
     },
     "metadata": {},
     "output_type": "display_data"
    },
    {
     "data": {
      "application/vnd.jupyter.widget-view+json": {
       "model_id": "eb5164a8450142b39002ff4673ed789e",
       "version_major": 2,
       "version_minor": 0
      },
      "text/plain": [
       "Starting processes:   0%|          | 0/32 [00:00<?, ?it/s]"
      ]
     },
     "metadata": {},
     "output_type": "display_data"
    },
    {
     "name": "stdout",
     "output_type": "stream",
     "text": [
      "Longest short path has 504 hops\n"
     ]
    },
    {
     "name": "stderr",
     "output_type": "stream",
     "text": [
      "WARNING: All log messages before absl::InitializeLog() is called are written to STDERR\n",
      "I0000 00:00:1728569211.027654  128641 service.cc:145] XLA service 0x7f8e78134b30 initialized for platform CUDA (this does not guarantee that XLA will be used). Devices:\n",
      "I0000 00:00:1728569211.027729  128641 service.cc:153]   StreamExecutor device (0): NVIDIA GeForce RTX 4080, Compute Capability 8.9\n",
      "2024-10-10 14:06:51.170012: I tensorflow/compiler/mlir/tensorflow/utils/dump_mlir_util.cc:268] disabling MLIR crash reproducer, set env var `MLIR_CRASH_REPRODUCER_DIRECTORY` to enable.\n",
      "2024-10-10 14:06:51.502457: I external/local_xla/xla/stream_executor/cuda/cuda_dnn.cc:465] Loaded cuDNN version 8907\n",
      "2024-10-10 14:06:52.292680: W external/local_xla/xla/service/gpu/nvptx_compiler.cc:742] The NVIDIA driver's CUDA version is 12.2 which is older than the ptxas CUDA version (12.3.107). Because the driver is older than the ptxas version, XLA is disabling parallel compilation, which may slow down compilation. You should update your NVIDIA driver or use the NVIDIA-provided CUDA forward compatibility packages.\n"
     ]
    },
    {
     "name": "stdout",
     "output_type": "stream",
     "text": [
      "\u001b[1m   1/1031\u001b[0m \u001b[37m━━━━━━━━━━━━━━━━━━━━\u001b[0m \u001b[1m1:30:01\u001b[0m 5s/step - loss: 474.4917"
     ]
    },
    {
     "name": "stderr",
     "output_type": "stream",
     "text": [
      "I0000 00:00:1728569213.634852  128641 device_compiler.h:188] Compiled cluster using XLA!  This line is logged at most once for the lifetime of the process.\n"
     ]
    },
    {
     "name": "stdout",
     "output_type": "stream",
     "text": [
      "\u001b[1m 177/1031\u001b[0m \u001b[32m━━━\u001b[0m\u001b[37m━━━━━━━━━━━━━━━━━\u001b[0m \u001b[1m2:31\u001b[0m 177ms/step - loss: 31.8812"
     ]
    }
   ],
   "source": [
    "logger = logging.getLogger()\n",
    "logger.setLevel(logging.INFO)\n",
    "logger.addHandler(logging.FileHandler(\"official_optuna_log.log\", mode=\"w\"))\n",
    "optuna.logging.enable_propagation()\n",
    "\n",
    "study = optuna.create_study(direction=\"minimize\")\n",
    "study.optimize(objective, n_trials=1000, gc_after_trial=True)\n",
    "print(f\"Best params is {study.best_params} with value {study.best_value}\")"
   ]
  },
  {
   "cell_type": "code",
   "execution_count": null,
   "metadata": {},
   "outputs": [],
   "source": []
  },
  {
   "cell_type": "code",
   "execution_count": null,
   "metadata": {},
   "outputs": [],
   "source": []
  }
 ],
 "metadata": {
  "kernelspec": {
   "display_name": "Python 3 (ipykernel)",
   "language": "python",
   "name": "python3"
  },
  "language_info": {
   "codemirror_mode": {
    "name": "ipython",
    "version": 3
   },
   "file_extension": ".py",
   "mimetype": "text/x-python",
   "name": "python",
   "nbconvert_exporter": "python",
   "pygments_lexer": "ipython3",
   "version": "3.11.7"
  }
 },
 "nbformat": 4,
 "nbformat_minor": 4
}
